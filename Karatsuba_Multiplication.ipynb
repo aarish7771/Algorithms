{
  "nbformat": 4,
  "nbformat_minor": 0,
  "metadata": {
    "colab": {
      "provenance": [],
      "authorship_tag": "ABX9TyNAlC8KeHIbuywZx4v2tWgc",
      "include_colab_link": true
    },
    "kernelspec": {
      "name": "python3",
      "display_name": "Python 3"
    },
    "language_info": {
      "name": "python"
    }
  },
  "cells": [
    {
      "cell_type": "markdown",
      "metadata": {
        "id": "view-in-github",
        "colab_type": "text"
      },
      "source": [
        "<a href=\"https://colab.research.google.com/github/aarish7771/Algorithms/blob/main/Karatsuba_Multiplication.ipynb\" target=\"_parent\"><img src=\"https://colab.research.google.com/assets/colab-badge.svg\" alt=\"Open In Colab\"/></a>"
      ]
    },
    {
      "cell_type": "code",
      "source": [
        "import sys\n",
        "\n",
        "sys.setrecursionlimit(10000)"
      ],
      "metadata": {
        "id": "XVV9FYPAz_Lz"
      },
      "execution_count": 10,
      "outputs": []
    },
    {
      "cell_type": "code",
      "execution_count": 17,
      "metadata": {
        "id": "iA5wpBF01RMF"
      },
      "outputs": [],
      "source": [
        "def Karatsuba(x, y):\n",
        "    # Base Case (if both x and y are single digit integers)\n",
        "    if x<10 and y<10:\n",
        "        return x*y\n",
        "\n",
        "    n = max(len(str(x)), len(str(y)))\n",
        "    n2 = n//2\n",
        "\n",
        "    # Splitting Inputs\n",
        "    a = x//(10**n2)\n",
        "    b = x%(10**n2)\n",
        "    c = y//(10**n2)\n",
        "    d = y%(10**n2)\n",
        "\n",
        "    # Recursive Calls (# = 3)\n",
        "    p1 = Karatsuba(a, c)\n",
        "    p2 = Karatsuba(b, d)\n",
        "    p3 = Karatsuba(a+b, c+d)\n",
        "    p4 = p3 - p1 - p2\n",
        "\n",
        "    return (10**(2*n2))*p1 + (10**(n2))*p4 + p2"
      ]
    },
    {
      "cell_type": "code",
      "source": [
        "x = int(input())\n",
        "y = int(input())\n",
        "\n",
        "ans = Karatsuba(x, y)\n",
        "print(ans)"
      ],
      "metadata": {
        "colab": {
          "base_uri": "https://localhost:8080/"
        },
        "id": "WHl7xonR1SMH",
        "outputId": "66836306-8231-4677-8c0a-6e4e006abc98"
      },
      "execution_count": 18,
      "outputs": [
        {
          "output_type": "stream",
          "name": "stdout",
          "text": [
            "1234\n",
            "5678\n",
            "7006652\n"
          ]
        }
      ]
    }
  ]
}