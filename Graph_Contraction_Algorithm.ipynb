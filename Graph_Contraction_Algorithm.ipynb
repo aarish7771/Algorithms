{
 "cells": [
  {
   "cell_type": "code",
   "execution_count": null,
   "metadata": {},
   "outputs": [],
   "source": [
    "import networkx as nx\n",
    "import matplotlib.pyplot as plt\n",
    "\n",
    "def read_adjacency_list(filename):\n",
    "    \"\"\"Reads an adjacency list from a file and returns a dictionary representing the graph.\"\"\"\n",
    "    graph = {}\n",
    "    \n",
    "    with open(filename, 'r') as file:\n",
    "        for line in file:\n",
    "            # Strip newline characters and split by tab\n",
    "            parts = line.strip().split('\\t')\n",
    "            # The first part is the vertex label\n",
    "            vertex = int(parts[0])\n",
    "            # The remaining parts are the adjacent vertices\n",
    "            adjacents = list(map(int, parts[1:]))\n",
    "            # Store the adjacency list in the dictionary\n",
    "            graph[vertex] = adjacents\n",
    "    \n",
    "    return graph\n",
    "\n",
    "def visualize_graph(graph):\n",
    "    \"\"\"Visualizes the graph using networkx and matplotlib.\"\"\"\n",
    "    G = nx.Graph()\n",
    "    \n",
    "    # Add nodes and edges to the graph\n",
    "    for vertex, adjacents in graph.items():\n",
    "        for adjacent in adjacents:\n",
    "            # Add edges (graph is undirected so we add both directions)\n",
    "            if not G.has_edge(vertex, adjacent):\n",
    "                G.add_edge(vertex, adjacent)\n",
    "    \n",
    "    # Draw the graph\n",
    "    pos = nx.spring_layout(G)  # Positions for all nodes\n",
    "    nx.draw_networkx_nodes(G, pos, node_size=50, node_color='blue')\n",
    "    nx.draw_networkx_edges(G, pos, width=0.5, alpha=0.5, edge_color='gray')\n",
    "    nx.draw_networkx_labels(G, pos, font_size=10, font_family='sans-serif')\n",
    "    \n",
    "    plt.title('Graph Visualization')\n",
    "    plt.show()\n",
    "\n",
    "def main():\n",
    "    filename = 'graph_adjacency_list.txt'  \n",
    "    graph = read_adjacency_list(filename)\n",
    "    \n",
    "    # Visualize the graph\n",
    "    visualize_graph(graph)\n",
    "\n",
    "if __name__ == \"__main__\":\n",
    "    main()\n"
   ]
  }
 ],
 "metadata": {
  "kernelspec": {
   "display_name": "Python 3",
   "language": "python",
   "name": "python3"
  },
  "language_info": {
   "name": "python",
   "version": "3.9.7"
  }
 },
 "nbformat": 4,
 "nbformat_minor": 2
}
