{
 "cells": [
  {
   "cell_type": "code",
   "execution_count": 29,
   "metadata": {},
   "outputs": [],
   "source": [
    "f = open(r\"C:\\Users\\Razz\\Desktop\\Mathematics\\Algorithms\\Input.txt\")\n",
    "S = f.read()\n",
    "\n",
    "A = [int(x) for x in S.split()]\n"
   ]
  },
  {
   "cell_type": "code",
   "execution_count": 32,
   "metadata": {},
   "outputs": [],
   "source": [
    "n = len(A)\n",
    "\n",
    "def countinv(A, n):\n",
    "    if n==1:\n",
    "        return 0, A\n",
    "    B = A[:n//2]\n",
    "    C = A[n//2:]\n",
    "\n",
    "    m, B = countinv(B, len(B))\n",
    "    l, C = countinv(C, len(C))\n",
    "\n",
    "    D = [0]*n\n",
    "\n",
    "    i = 0\n",
    "    j = 0\n",
    "    k = 0\n",
    "    inv = 0\n",
    "    while j<len(B) and k<len(C):\n",
    "        if B[j]<C[k]:\n",
    "            D[i] = B[j]\n",
    "            j+=1\n",
    "        else:\n",
    "            D[i] = C[k]\n",
    "            k+=1\n",
    "            inv += len(B)-j\n",
    "        i+=1                    \n",
    "    while j<len(B):\n",
    "        D[i] = B[j]\n",
    "        i+=1\n",
    "        j+=1\n",
    "    while k<len(C):\n",
    "        D[i] = C[k]\n",
    "        k+=1\n",
    "        i+=1\n",
    "\n",
    "    return inv+m+l, D                "
   ]
  },
  {
   "cell_type": "code",
   "execution_count": 33,
   "metadata": {},
   "outputs": [
    {
     "name": "stdout",
     "output_type": "stream",
     "text": [
      "2407905288\n"
     ]
    }
   ],
   "source": [
    "z = countinv(A, n)\n",
    "print(z[0])\n"
   ]
  }
 ],
 "metadata": {
  "kernelspec": {
   "display_name": "base",
   "language": "python",
   "name": "python3"
  },
  "language_info": {
   "codemirror_mode": {
    "name": "ipython",
    "version": 3
   },
   "file_extension": ".py",
   "mimetype": "text/x-python",
   "name": "python",
   "nbconvert_exporter": "python",
   "pygments_lexer": "ipython3",
   "version": "3.11.7"
  }
 },
 "nbformat": 4,
 "nbformat_minor": 2
}
