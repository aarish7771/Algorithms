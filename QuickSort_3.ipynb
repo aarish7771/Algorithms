{
 "cells": [
  {
   "cell_type": "code",
   "execution_count": 1,
   "metadata": {},
   "outputs": [],
   "source": [
    "f = open(r\"C:\\Users\\Razz\\Desktop\\Mathematics\\Algorithms\\Input_Quick_Sort.txt\")\n",
    "S = f.read()\n",
    "\n",
    "A = [int(x) for x in S.split()]"
   ]
  },
  {
   "cell_type": "code",
   "execution_count": 2,
   "metadata": {},
   "outputs": [
    {
     "name": "stdout",
     "output_type": "stream",
     "text": [
      "138382\n"
     ]
    }
   ],
   "source": [
    "count = 0\n",
    "\n",
    "def CountComp(A, l, r):\n",
    "    if l>=r:\n",
    "        return 0\n",
    "    med = l+int((r-l)//2)\n",
    "    if A[l]<A[med]<A[r] or A[r]<A[med]<A[l]:\n",
    "        A[l], A[med] = A[med], A[l]\n",
    "    if A[l]<A[r]<A[med] or A[med]<A[r]<A[l]:\n",
    "        A[l], A[r] = A[r], A[l]    \n",
    "\n",
    "    p = A[l]\n",
    "\n",
    "    i = l+1\n",
    "    for j in range(l+1,r+1):\n",
    "        if A[j]<p:\n",
    "            A[i], A[j] = A[j], A[i]\n",
    "            i += 1\n",
    "\n",
    "    A[l], A[i-1] = A[i-1], p\n",
    "    co = r-l\n",
    "    count = co + CountComp(A, l, i-2) + CountComp(A, i, r)\n",
    "\n",
    "    return count    \n",
    "\n",
    "n = len(A)\n",
    "l = 0\n",
    "r = n-1\n",
    "ans = CountComp(A, l, r)\n",
    "print(ans)  \n"
   ]
  }
 ],
 "metadata": {
  "kernelspec": {
   "display_name": "base",
   "language": "python",
   "name": "python3"
  },
  "language_info": {
   "codemirror_mode": {
    "name": "ipython",
    "version": 3
   },
   "file_extension": ".py",
   "mimetype": "text/x-python",
   "name": "python",
   "nbconvert_exporter": "python",
   "pygments_lexer": "ipython3",
   "version": "undefined.undefined.undefined"
  }
 },
 "nbformat": 4,
 "nbformat_minor": 2
}
